{
 "cells": [
  {
   "cell_type": "code",
   "execution_count": 5,
   "id": "a4cb92df",
   "metadata": {},
   "outputs": [],
   "source": [
    "import random\n",
    "import string\n",
    "import math"
   ]
  },
  {
   "cell_type": "code",
   "execution_count": null,
   "id": "717258f9",
   "metadata": {},
   "outputs": [],
   "source": [
    "TUPLES_PER_BLOCK = 8\n",
    "NUM_TUPLES = 5000\n",
    "B_MIN = 10000\n",
    "B_MAX = 50000\n",
    "MEMORY_BLOCKS = 15"
   ]
  },
  {
   "cell_type": "markdown",
   "id": "61e7afee",
   "metadata": {},
   "source": [
    "### 1. Generating S(B,C) and allocating it space in the virtual disk S."
   ]
  },
  {
   "cell_type": "code",
   "execution_count": 21,
   "id": "54a04758",
   "metadata": {},
   "outputs": [
    {
     "name": "stdout",
     "output_type": "stream",
     "text": [
      "Total blocks in virtual disk S: 625\n",
      "First block: [(28388, 'BR10C'), (33862, 'VGXX2'), (29626, 'GDA1Q'), (38703, '0JFHP'), (31873, 'Y4ZO5'), (48723, 'VN8RF'), (40541, '9HELH'), (45175, '8Q0AZ')]\n"
     ]
    }
   ],
   "source": [
    "def random_string(length=5):\n",
    "    return ''.join(random.choices(string.ascii_uppercase + string.digits, k=length))\n",
    "\n",
    "# generating 5000 unique B-values here\n",
    "B_values = random.sample(range(B_MIN, B_MAX + 1), NUM_TUPLES)\n",
    "\n",
    "# creating relation S \n",
    "relation_S = [(b, random_string()) for b in B_values]\n",
    "\n",
    "# structuring virtual disk\n",
    "virtual_disk_S = [\n",
    "    relation_S[i:i + TUPLES_PER_BLOCK]\n",
    "    for i in range(0, NUM_TUPLES, TUPLES_PER_BLOCK)\n",
    "]\n",
    "\n",
    "print(f\"Total blocks in virtual disk S: {len(virtual_disk_S)}\")\n",
    "print(f\"First block: {virtual_disk_S[0]}\")\n"
   ]
  },
  {
   "cell_type": "markdown",
   "id": "6f4013b7",
   "metadata": {},
   "source": [
    "### 2. Virtual Disk I/O"
   ]
  },
  {
   "cell_type": "code",
   "execution_count": null,
   "id": "9d7f6edf",
   "metadata": {},
   "outputs": [],
   "source": [
    "main_memory = [None] * MEMORY_BLOCKS\n",
    "# just placeholder for now ^"
   ]
  },
  {
   "cell_type": "code",
   "execution_count": null,
   "id": "044bc8b0",
   "metadata": {},
   "outputs": [],
   "source": [
    "# disk -> memory \n",
    "def read_block_from_disk(disk, block_index, memory, memory_index):\n",
    "    memory[memory_index] = disk[block_index]\n",
    "\n",
    "# memory -> disk\n",
    "def write_block_to_disk(memory, memory_index, disk, block_index):\n",
    "    disk[block_index] = memory[memory_index]\n",
    "\n",
    "# this is how we can use it (writing it for my sanity):\n",
    "# read_block_from_disk(virtual_disk_S, 0, main_memory, 0)\n",
    "# write_block_to_disk(main_memory, 0, virtual_disk_S, 10)"
   ]
  },
  {
   "cell_type": "markdown",
   "id": "cc09b98b",
   "metadata": {},
   "source": [
    "### 3. Defining Hash Function"
   ]
  },
  {
   "cell_type": "code",
   "execution_count": 22,
   "id": "cca9b7e6",
   "metadata": {},
   "outputs": [],
   "source": [
    "NUM_BUCKETS = MEMORY_BLOCKS - 1  # 14\n",
    "# we need one memory block for reading input blocks, and the rest for output buffers\n",
    "\n",
    "def hash_function(b_value):\n",
    "    return b_value % NUM_BUCKETS"
   ]
  },
  {
   "cell_type": "markdown",
   "id": "a5635e00",
   "metadata": {},
   "source": [
    "### 4. Hash Partition and Join Algorithm"
   ]
  },
  {
   "cell_type": "code",
   "execution_count": null,
   "id": "b6afe1e1",
   "metadata": {},
   "outputs": [],
   "source": [
    "# function to partition relation into buckets on disk\n",
    "def hash_partition_relation(disk_relation, is_R):\n",
    "    # Create empty bucket list: 14 buckets on disk\n",
    "    buckets = [[] for _ in range(NUM_BUCKETS)]  # Each will be a list of blocks\n",
    "\n",
    "    # !!! Each bucket is a list of blocks, and each block is a list of tuples !!!\n",
    "\n",
    "    for block_index in range(len(disk_relation)):\n",
    "        read_block_from_disk(disk_relation, block_index, main_memory, 0)\n",
    "        block = main_memory[0]\n",
    "        for tuple_ in block:\n",
    "            b_value = tuple_[1] if is_R else tuple_[0]  # (A,B) or (B,C)\n",
    "            bucket_index = hash_function(b_value)\n",
    "            if not buckets[bucket_index] or len(buckets[bucket_index][-1]) == TUPLES_PER_BLOCK:\n",
    "                buckets[bucket_index].append([])\n",
    "            buckets[bucket_index][-1].append(tuple_)\n",
    "    return buckets"
   ]
  },
  {
   "cell_type": "markdown",
   "id": "6043185d",
   "metadata": {},
   "source": [
    "since we don't have enough memory to load entire S_bucket\n",
    "            # best case scenario there are 1000/14 = 71 blocks in each bucket, and still the main memory is not enough"
   ]
  },
  {
   "cell_type": "code",
   "execution_count": null,
   "id": "a363ba41",
   "metadata": {},
   "outputs": [],
   "source": [
    "def two_pass_hash_join(relation_R_disk, relation_S_disk):\n",
    "    io_count = 0\n",
    "    result = []\n",
    "\n",
    "    # Pass 1: Partition both R and S\n",
    "    R_buckets = hash_partition_relation(relation_R_disk, is_R=True)\n",
    "    S_buckets = hash_partition_relation(relation_S_disk, is_R=False)\n",
    "\n",
    "    for i in range(NUM_BUCKETS):\n",
    "        R_bucket = R_buckets[i]  # list of blocks\n",
    "        S_bucket = S_buckets[i]  # list of blocks\n",
    "\n",
    "        if not R_bucket or not S_bucket:\n",
    "            continue  # Skip empty buckets\n",
    "\n",
    "        # Load S bucket into memory (build phase)\n",
    "        hash_table = {}\n",
    "        \n",
    "        if len(S_bucket) <= MEMORY_BLOCKS - 1:\n",
    "            # One-pass join: load entire S_bucket into memory\n",
    "            \n",
    "            for j, block in enumerate(S_bucket):\n",
    "                main_memory[j] = block\n",
    "                io_count += 1\n",
    "\n",
    "                for b, c in block:\n",
    "                    hash_table[b] = hash_table.get(b, []) + [(b, c)]\n",
    "\n",
    "            # Probe with R bucket\n",
    "            for block in R_bucket:\n",
    "                main_memory[-1] = block  # last block for scanning R\n",
    "                io_count += 1\n",
    "                for a, b in block:\n",
    "                    if b in hash_table:\n",
    "                        for match in hash_table[b]:\n",
    "                            result.append((a, b, match[1]))  # (A, B, C)\n",
    "        else:\n",
    "            # Fallback to block-nested loop join \n",
    "            # since we don't have enough memory to load entire S_bucket\n",
    "            # best case scenario there are 1000/14 = 71 blocks in each bucket, and still the main memory is not enough\n",
    "            for R_block in R_bucket:\n",
    "                io_count += 1\n",
    "                for S_block in S_bucket:\n",
    "                    io_count += 1\n",
    "                    for r in R_block:\n",
    "                        r_B = r[1]\n",
    "                        for s in S_block:\n",
    "                            if r_B == s[0]:\n",
    "                                result.append((r[0], r[1], s[1]))  # (A, B, C)\n",
    "\n",
    "    return result, io_count"
   ]
  },
  {
   "cell_type": "markdown",
   "id": "6c4b89ea",
   "metadata": {},
   "source": [
    "### Experiments"
   ]
  },
  {
   "cell_type": "markdown",
   "id": "828bac55",
   "metadata": {},
   "source": [
    "need to define these below functions since they are used multiples times. Also am defining R_disk separate from virtual_disk_S for ease of coding for now"
   ]
  },
  {
   "cell_type": "code",
   "execution_count": 16,
   "id": "708d6ea3",
   "metadata": {},
   "outputs": [],
   "source": [
    "def create_relation_on_disk(tuples):\n",
    "    disk = []\n",
    "    block = []\n",
    "    for tup in tuples:\n",
    "        block.append(tup)\n",
    "        if len(block) == TUPLES_PER_BLOCK:\n",
    "            disk.append(block)\n",
    "            block = []\n",
    "    if block:\n",
    "        disk.append(block)\n",
    "    return disk\n",
    "\n",
    "def flatten_relation(relation_disk):\n",
    "    return [tup for block in relation_disk for tup in block]\n"
   ]
  },
  {
   "cell_type": "code",
   "execution_count": 29,
   "id": "897eedb4",
   "metadata": {},
   "outputs": [],
   "source": [
    "def run_experiment_5_1(S_disk):\n",
    "    S_flat = flatten_relation(S_disk)\n",
    "    B_values_in_S = [b for (b, _) in S_flat]\n",
    "\n",
    "    R_tuples = [(f\"A{i}\", random.choice(B_values_in_S)) for i in range(1000)]\n",
    "    R_disk = create_relation_on_disk(R_tuples)\n",
    "\n",
    "    result, io_count = two_pass_hash_join(R_disk, S_disk)\n",
    "    print(f\"Total tuples in join result: {len(result)}\")\n",
    "    print(\"5.1: Total I/Os =\", io_count)\n",
    "\n",
    "    picked_B_values = random.sample(B_values_in_S, 20)\n",
    "    filtered = [tup for tup in result if tup[1] in picked_B_values]\n",
    "\n",
    "    print(f\"5.1: Output for picked B-values (total {len(filtered)}):\")\n",
    "    for tup in filtered:\n",
    "        print(tup)\n"
   ]
  },
  {
   "cell_type": "code",
   "execution_count": 33,
   "id": "551144f0",
   "metadata": {},
   "outputs": [],
   "source": [
    "def run_experiment_5_2(S_disk):\n",
    "    # Generate 1,200 tuples for R with B values between 20,000–30,000\n",
    "    R_tuples = [(f\"A{i}\", random.randint(20000, 30000)) for i in range(1200)]\n",
    "    R_disk = create_relation_on_disk(R_tuples)\n",
    "\n",
    "    result, io_count = two_pass_hash_join(R_disk, S_disk)\n",
    "    print(f\"Total tuples in join result: {len(result)}\")\n",
    "    print(\"5.2: Total I/Os =\", io_count)\n",
    "\n",
    "    for tup in result:\n",
    "        print(tup)\n"
   ]
  },
  {
   "cell_type": "markdown",
   "id": "a7029817",
   "metadata": {},
   "source": [
    "#### Lets Experiment!"
   ]
  },
  {
   "cell_type": "code",
   "execution_count": 30,
   "id": "8b47730b",
   "metadata": {},
   "outputs": [
    {
     "name": "stdout",
     "output_type": "stream",
     "text": [
      "Total tuples in join result: 1000\n",
      "5.1: Total I/Os = 6054\n",
      "5.1: Output for picked B-values (total 4):\n",
      "('A935', 26922, 'RKT3W')\n",
      "('A833', 36704, 'X9Z8G')\n",
      "('A31', 47598, 'FCSW9')\n",
      "('A798', 40795, '07XZ7')\n"
     ]
    }
   ],
   "source": [
    "run_experiment_5_1(virtual_disk_S)\n",
    "\n"
   ]
  },
  {
   "cell_type": "code",
   "execution_count": 34,
   "id": "c63ca2a1",
   "metadata": {},
   "outputs": [
    {
     "name": "stdout",
     "output_type": "stream",
     "text": [
      "Total tuples in join result: 166\n",
      "5.2: Total I/Os = 7298\n",
      "('A20', 29610, 'M6YH3')\n",
      "('A91', 20622, 'I1Y6F')\n",
      "('A586', 24178, 'AEYTI')\n",
      "('A620', 22344, 'NHXE5')\n",
      "('A714', 22568, 'EXE7T')\n",
      "('A770', 22988, 'PPCZL')\n",
      "('A933', 24178, 'AEYTI')\n",
      "('A1129', 22876, 'ZG0V0')\n",
      "('A1166', 23268, 'P3BHV')\n",
      "('A43', 23773, '7VH5A')\n",
      "('A191', 20147, 'AS711')\n",
      "('A443', 20063, 'V57CX')\n",
      "('A507', 22737, 'WOXGW')\n",
      "('A490', 22107, 'LVG0G')\n",
      "('A569', 27931, 'N88RL')\n",
      "('A621', 26503, 'MBP8I')\n",
      "('A686', 26867, 'GSIR8')\n",
      "('A838', 22863, 'SY9F1')\n",
      "('A991', 22793, 'V8JPR')\n",
      "('A1089', 20413, 'D34B7')\n",
      "('A55', 25048, 'H4AYW')\n",
      "('A258', 25216, '2HN7R')\n",
      "('A214', 20834, 'KSOXI')\n",
      "('A167', 28786, 'Z5T9Q')\n",
      "('A276', 25510, '3U9XF')\n",
      "('A424', 27344, '97MKO')\n",
      "('A470', 26546, '0UUX6')\n",
      "('A517', 20778, '3D665')\n",
      "('A611', 23172, 'A56HU')\n",
      "('A809', 28352, 'L110W')\n",
      "('A755', 27232, 'QORH2')\n",
      "('A738', 28478, 'GMOMH')\n",
      "('A1043', 28254, 'B0ED6')\n",
      "('A1148', 26364, 'W2PO5')\n",
      "('A1197', 26756, 'TY68E')\n",
      "('A29', 20961, 'QPOTA')\n",
      "('A59', 26463, 'R3JNX')\n",
      "('A31', 23635, '4MYXZ')\n",
      "('A100', 28059, 'HUOVT')\n",
      "('A175', 21073, 'NAFQW')\n",
      "('A279', 21003, '8ILAL')\n",
      "('A388', 29501, 'P7HQP')\n",
      "('A469', 20835, '44XFH')\n",
      "('A376', 23131, '9NR3J')\n",
      "('A509', 29039, 'XE969')\n",
      "('A560', 23033, 'AGYYE')\n",
      "('A709', 29011, 'HCRH7')\n",
      "('A898', 25441, 'BEZ7E')\n",
      "('A852', 26673, 'JJLRY')\n",
      "('A1024', 26211, 'NRAWI')\n",
      "('A1194', 22669, 'ELHTS')\n",
      "('A5', 28032, 'FB7OU')\n",
      "('A104', 21788, '3KDN7')\n",
      "('A179', 27080, '8CWQP')\n",
      "('A254', 25176, 'N04Y5')\n",
      "('A636', 29362, '75UTR')\n",
      "('A697', 21872, 'FFZC1')\n",
      "('A812', 21802, '4AZIR')\n",
      "('A940', 24056, 'P3UII')\n",
      "('A1005', 24154, '0K8JD')\n",
      "('A1133', 23244, 'N7W9C')\n",
      "('A13', 21047, 'UBKKK')\n",
      "('A24', 25611, 'LH47W')\n",
      "('A198', 23161, 'UNJUE')\n",
      "('A486', 20347, 'KJWI3')\n",
      "('A745', 25317, 'M5CR9')\n",
      "('A747', 24603, 'PPAPV')\n",
      "('A638', 28369, 'J5FNY')\n",
      "('A813', 22601, 'TMOR0')\n",
      "('A957', 23455, 'EBQ17')\n",
      "('A865', 24701, '2PD2R')\n",
      "('A886', 29503, 'PA0A7')\n",
      "('A932', 20375, 'ANUUI')\n",
      "('A30', 29938, 'DBDO1')\n",
      "('A202', 29574, 'KYRX5')\n",
      "('A125', 22630, 'EY4QZ')\n",
      "('A318', 23652, '2EG0T')\n",
      "('A403', 29938, 'DBDO1')\n",
      "('A335', 21300, 'X47E7')\n",
      "('A483', 25094, '5ZVS0')\n",
      "('A538', 23652, '2EG0T')\n",
      "('A537', 22798, 'QUJBY')\n",
      "('A583', 20026, 'J67LH')\n",
      "('A566', 27866, '8FG85')\n",
      "('A1006', 29070, 'X57QJ')\n",
      "('A1184', 27222, 'AUGCM')\n",
      "('A66', 26439, 'OV6SW')\n",
      "('A270', 24577, 'ZU1MP')\n",
      "('A384', 23023, 'FL62C')\n",
      "('A442', 25067, 'OLY5F')\n",
      "('A635', 27279, 'CR2KN')\n",
      "('A782', 25893, '6M2RS')\n",
      "('A944', 24115, '9PUAW')\n",
      "('A1001', 24479, '68U0R')\n",
      "('A1159', 21693, '6EEMR')\n",
      "('A119', 27350, 'JI4QU')\n",
      "('A216', 25320, 'B58HE')\n",
      "('A192', 27196, 'B45E6')\n",
      "('A341', 24326, '4GDR6')\n",
      "('A414', 25782, 'Y60XJ')\n",
      "('A391', 22730, 'UK6D8')\n",
      "('A585', 20182, 'YH5CN')\n",
      "('A576', 23192, 'IZ5H4')\n",
      "('A510', 27770, 'QL6C4')\n",
      "('A729', 20042, 'IV70N')\n",
      "('A719', 28694, '4WG8K')\n",
      "('A977', 21820, '0M9JX')\n",
      "('A1091', 22548, 'RUYEB')\n",
      "('A106', 29675, '7TS4R')\n",
      "('A110', 27435, 'LS02Z')\n",
      "('A280', 29311, '3V2JX')\n",
      "('A455', 24565, 'BUQ8Z')\n",
      "('A386', 20127, 'LVW4P')\n",
      "('A492', 27561, 'YWJRH')\n",
      "('A633', 20085, 'CIS61')\n",
      "('A690', 22087, 'AUCPB')\n",
      "('A857', 25713, 'IN3G0')\n",
      "('A798', 22689, '6YWHB')\n",
      "('A821', 26105, '6CPC4')\n",
      "('A900', 29241, 'PH0ZR')\n",
      "('A929', 27435, 'LS02Z')\n",
      "('A1153', 29171, 'XG7YZ')\n",
      "('A1066', 26567, 'GVV09')\n",
      "('A27', 20170, 'GQ9GV')\n",
      "('A166', 29214, 'RTZ6O')\n",
      "('A334', 25952, 'K03RU')\n",
      "('A367', 29788, 'JF4E9')\n",
      "('A413', 24090, '9IIUA')\n",
      "('A561', 23684, '4ERX3')\n",
      "('A521', 21318, '5PCUZ')\n",
      "('A472', 26428, '2D8JJ')\n",
      "('A653', 23166, 'QDD0P')\n",
      "('A877', 23684, '4ERX3')\n",
      "('A1072', 28388, 'BR10C')\n",
      "('A1031', 20632, 'GCS5I')\n",
      "('A1049', 22844, 'P5FGI')\n",
      "('A1168', 27800, 'Q3M7E')\n",
      "('A1101', 21346, 'D8398')\n",
      "('A1136', 27702, '93940')\n",
      "('A143', 27619, '1JQ0Y')\n",
      "('A382', 21109, '5HB8Z')\n",
      "('A641', 20339, 'AZD17')\n",
      "('A614', 24917, 'NQVUC')\n",
      "('A637', 21361, 'QY3LL')\n",
      "('A1018', 28487, '0YUC3')\n",
      "('A1021', 23139, '1VFGG')\n",
      "('A112', 23518, 'K0C26')\n",
      "('A228', 26808, 'LG1BN')\n",
      "('A325', 22594, 'KETEP')\n",
      "('A479', 21040, '7Y48K')\n",
      "('A930', 28600, 'A17Y0')\n",
      "('A113', 26235, 'R48N2')\n",
      "('A81', 21965, 'X0QO8')\n",
      "('A78', 20229, 'DT53J')\n",
      "('A115', 22049, '9SKG9')\n",
      "('A272', 28615, '4R31R')\n",
      "('A340', 26235, 'R48N2')\n",
      "('A303', 29413, 'Z0BTO')\n",
      "('A326', 25479, 'AFJU7')\n",
      "('A349', 22609, 'REPP5')\n",
      "('A404', 28377, 'QDXYM')\n",
      "('A595', 28755, '2PMC8')\n",
      "('A780', 27229, 'UY6KU')\n",
      "('A866', 22007, '50QIN')\n",
      "('A1035', 27523, 'MKHLI')\n",
      "('A1080', 29819, '5EO33')\n"
     ]
    }
   ],
   "source": [
    "run_experiment_5_2(virtual_disk_S)"
   ]
  },
  {
   "cell_type": "code",
   "execution_count": null,
   "id": "94fc226c",
   "metadata": {},
   "outputs": [],
   "source": []
  }
 ],
 "metadata": {
  "kernelspec": {
   "display_name": "base",
   "language": "python",
   "name": "python3"
  },
  "language_info": {
   "codemirror_mode": {
    "name": "ipython",
    "version": 3
   },
   "file_extension": ".py",
   "mimetype": "text/x-python",
   "name": "python",
   "nbconvert_exporter": "python",
   "pygments_lexer": "ipython3",
   "version": "3.10.12"
  }
 },
 "nbformat": 4,
 "nbformat_minor": 5
}
